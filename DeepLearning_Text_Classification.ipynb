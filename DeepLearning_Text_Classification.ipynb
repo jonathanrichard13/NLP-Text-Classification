{
  "cells": [
    {
      "cell_type": "code",
      "execution_count": 270,
      "metadata": {
        "colab": {
          "base_uri": "https://localhost:8080/"
        },
        "id": "5UKjwdvx2xPY",
        "outputId": "8f370481-0d69-4a14-fe4e-f51a56dbb5b3"
      },
      "outputs": [
        {
          "output_type": "stream",
          "name": "stdout",
          "text": [
            "Looking in indexes: https://pypi.org/simple, https://us-python.pkg.dev/colab-wheels/public/simple/\n",
            "Requirement already satisfied: PySastrawi in /usr/local/lib/python3.7/dist-packages (1.2.0)\n"
          ]
        }
      ],
      "source": [
        "!pip install PySastrawi"
      ]
    },
    {
      "cell_type": "code",
      "source": [
        "!pip install gensim"
      ],
      "metadata": {
        "colab": {
          "base_uri": "https://localhost:8080/"
        },
        "id": "iaUhuJWTOvaZ",
        "outputId": "d1b511c8-38bf-413d-db25-6ef1af686064"
      },
      "execution_count": 271,
      "outputs": [
        {
          "output_type": "stream",
          "name": "stdout",
          "text": [
            "Looking in indexes: https://pypi.org/simple, https://us-python.pkg.dev/colab-wheels/public/simple/\n",
            "Requirement already satisfied: gensim in /usr/local/lib/python3.7/dist-packages (4.2.0)\n",
            "Requirement already satisfied: smart-open>=1.8.1 in /usr/local/lib/python3.7/dist-packages (from gensim) (5.2.1)\n",
            "Requirement already satisfied: scipy>=0.18.1 in /usr/local/lib/python3.7/dist-packages (from gensim) (1.7.3)\n",
            "Requirement already satisfied: numpy>=1.17.0 in /usr/local/lib/python3.7/dist-packages (from gensim) (1.21.6)\n"
          ]
        }
      ]
    },
    {
      "cell_type": "code",
      "execution_count": 272,
      "metadata": {
        "colab": {
          "base_uri": "https://localhost:8080/"
        },
        "id": "mNy4eljerm-d",
        "outputId": "ff0cc17f-996b-4de0-8907-bb3caaf75475"
      },
      "outputs": [
        {
          "output_type": "stream",
          "name": "stdout",
          "text": [
            "Drive already mounted at /content/drive; to attempt to forcibly remount, call drive.mount(\"/content/drive\", force_remount=True).\n"
          ]
        }
      ],
      "source": [
        "from google.colab import drive\n",
        "drive.mount('/content/drive')"
      ]
    },
    {
      "cell_type": "code",
      "execution_count": 273,
      "metadata": {
        "colab": {
          "base_uri": "https://localhost:8080/"
        },
        "id": "WVLvfrGCrpCW",
        "outputId": "181e5e5c-6bdc-49ef-cdb8-648cd1ee44bf"
      },
      "outputs": [
        {
          "output_type": "stream",
          "name": "stdout",
          "text": [
            "[Errno 2] No such file or directory: './drive/MyDrive/NLP/'\n",
            "/content/drive/MyDrive/NLP\n"
          ]
        }
      ],
      "source": [
        "%cd ./drive/MyDrive/NLP/"
      ]
    },
    {
      "cell_type": "code",
      "execution_count": 274,
      "metadata": {
        "id": "0tOyUOTvsUim",
        "colab": {
          "base_uri": "https://localhost:8080/"
        },
        "outputId": "bbfcb3c0-6500-4b57-d7d6-016e3b88c456"
      },
      "outputs": [
        {
          "output_type": "stream",
          "name": "stderr",
          "text": [
            "[nltk_data] Downloading package punkt to /root/nltk_data...\n",
            "[nltk_data]   Package punkt is already up-to-date!\n"
          ]
        },
        {
          "output_type": "execute_result",
          "data": {
            "text/plain": [
              "True"
            ]
          },
          "metadata": {},
          "execution_count": 274
        }
      ],
      "source": [
        "import numpy as np # linear algebra\n",
        "import pandas as pd # data processing, CSV file I/O (e.g. pd.read_csv)\n",
        "import re\n",
        "from Sastrawi.Stemmer.StemmerFactory import StemmerFactory\n",
        "from Sastrawi.StopWordRemover.StopWordRemoverFactory import StopWordRemoverFactory\n",
        "import nltk\n",
        "import torch\n",
        "from torchtext.data import get_tokenizer\n",
        "from torch.nn.utils.rnn import pad_sequence\n",
        "import gensim\n",
        "import gc\n",
        "nltk.download('punkt')"
      ]
    },
    {
      "cell_type": "markdown",
      "metadata": {
        "id": "qKE9myaU23ad"
      },
      "source": [
        "## Import Data"
      ]
    },
    {
      "cell_type": "code",
      "execution_count": 275,
      "metadata": {
        "id": "cOZYxPoYuNIQ"
      },
      "outputs": [],
      "source": [
        "df = pd.read_csv(\"./data_worthcheck/train.csv\",index_col=0)"
      ]
    },
    {
      "cell_type": "code",
      "execution_count": 276,
      "metadata": {
        "colab": {
          "base_uri": "https://localhost:8080/",
          "height": 424
        },
        "id": "KD6q0CMu2etx",
        "outputId": "2e715775-c108-414e-f532-73eaa7a63483"
      },
      "outputs": [
        {
          "output_type": "execute_result",
          "data": {
            "text/plain": [
              "                                                 text_a label\n",
              "0                               jek dajal ga depok bang    no\n",
              "1     detikcom untung depok masuk wilayah nya ridwan...    no\n",
              "2     df dom jakarta depok yg gunain vc cabang nya c...    no\n",
              "3                                     your2rl depok jkt    no\n",
              "4     doakan indonesia selamat virus corona pkb depo...   yes\n",
              "...                                                 ...   ...\n",
              "2795  ku tenang2 bae ku sih ya corona nya ga depok k...    no\n",
              "2796  guru hati hati ya virus corona uda indonesia t...   yes\n",
              "2797  4 terawan menyebut virus corona indonesia terd...   yes\n",
              "2798        realffk buhari can t pronounce corona virus    no\n",
              "2799  hadapi wabah corona pemuda muhammadiyah pemeri...   yes\n",
              "\n",
              "[2800 rows x 2 columns]"
            ],
            "text/html": [
              "\n",
              "  <div id=\"df-281069c9-25ad-4d67-a38d-7386f403ec04\">\n",
              "    <div class=\"colab-df-container\">\n",
              "      <div>\n",
              "<style scoped>\n",
              "    .dataframe tbody tr th:only-of-type {\n",
              "        vertical-align: middle;\n",
              "    }\n",
              "\n",
              "    .dataframe tbody tr th {\n",
              "        vertical-align: top;\n",
              "    }\n",
              "\n",
              "    .dataframe thead th {\n",
              "        text-align: right;\n",
              "    }\n",
              "</style>\n",
              "<table border=\"1\" class=\"dataframe\">\n",
              "  <thead>\n",
              "    <tr style=\"text-align: right;\">\n",
              "      <th></th>\n",
              "      <th>text_a</th>\n",
              "      <th>label</th>\n",
              "    </tr>\n",
              "  </thead>\n",
              "  <tbody>\n",
              "    <tr>\n",
              "      <th>0</th>\n",
              "      <td>jek dajal ga depok bang</td>\n",
              "      <td>no</td>\n",
              "    </tr>\n",
              "    <tr>\n",
              "      <th>1</th>\n",
              "      <td>detikcom untung depok masuk wilayah nya ridwan...</td>\n",
              "      <td>no</td>\n",
              "    </tr>\n",
              "    <tr>\n",
              "      <th>2</th>\n",
              "      <td>df dom jakarta depok yg gunain vc cabang nya c...</td>\n",
              "      <td>no</td>\n",
              "    </tr>\n",
              "    <tr>\n",
              "      <th>3</th>\n",
              "      <td>your2rl depok jkt</td>\n",
              "      <td>no</td>\n",
              "    </tr>\n",
              "    <tr>\n",
              "      <th>4</th>\n",
              "      <td>doakan indonesia selamat virus corona pkb depo...</td>\n",
              "      <td>yes</td>\n",
              "    </tr>\n",
              "    <tr>\n",
              "      <th>...</th>\n",
              "      <td>...</td>\n",
              "      <td>...</td>\n",
              "    </tr>\n",
              "    <tr>\n",
              "      <th>2795</th>\n",
              "      <td>ku tenang2 bae ku sih ya corona nya ga depok k...</td>\n",
              "      <td>no</td>\n",
              "    </tr>\n",
              "    <tr>\n",
              "      <th>2796</th>\n",
              "      <td>guru hati hati ya virus corona uda indonesia t...</td>\n",
              "      <td>yes</td>\n",
              "    </tr>\n",
              "    <tr>\n",
              "      <th>2797</th>\n",
              "      <td>4 terawan menyebut virus corona indonesia terd...</td>\n",
              "      <td>yes</td>\n",
              "    </tr>\n",
              "    <tr>\n",
              "      <th>2798</th>\n",
              "      <td>realffk buhari can t pronounce corona virus</td>\n",
              "      <td>no</td>\n",
              "    </tr>\n",
              "    <tr>\n",
              "      <th>2799</th>\n",
              "      <td>hadapi wabah corona pemuda muhammadiyah pemeri...</td>\n",
              "      <td>yes</td>\n",
              "    </tr>\n",
              "  </tbody>\n",
              "</table>\n",
              "<p>2800 rows × 2 columns</p>\n",
              "</div>\n",
              "      <button class=\"colab-df-convert\" onclick=\"convertToInteractive('df-281069c9-25ad-4d67-a38d-7386f403ec04')\"\n",
              "              title=\"Convert this dataframe to an interactive table.\"\n",
              "              style=\"display:none;\">\n",
              "        \n",
              "  <svg xmlns=\"http://www.w3.org/2000/svg\" height=\"24px\"viewBox=\"0 0 24 24\"\n",
              "       width=\"24px\">\n",
              "    <path d=\"M0 0h24v24H0V0z\" fill=\"none\"/>\n",
              "    <path d=\"M18.56 5.44l.94 2.06.94-2.06 2.06-.94-2.06-.94-.94-2.06-.94 2.06-2.06.94zm-11 1L8.5 8.5l.94-2.06 2.06-.94-2.06-.94L8.5 2.5l-.94 2.06-2.06.94zm10 10l.94 2.06.94-2.06 2.06-.94-2.06-.94-.94-2.06-.94 2.06-2.06.94z\"/><path d=\"M17.41 7.96l-1.37-1.37c-.4-.4-.92-.59-1.43-.59-.52 0-1.04.2-1.43.59L10.3 9.45l-7.72 7.72c-.78.78-.78 2.05 0 2.83L4 21.41c.39.39.9.59 1.41.59.51 0 1.02-.2 1.41-.59l7.78-7.78 2.81-2.81c.8-.78.8-2.07 0-2.86zM5.41 20L4 18.59l7.72-7.72 1.47 1.35L5.41 20z\"/>\n",
              "  </svg>\n",
              "      </button>\n",
              "      \n",
              "  <style>\n",
              "    .colab-df-container {\n",
              "      display:flex;\n",
              "      flex-wrap:wrap;\n",
              "      gap: 12px;\n",
              "    }\n",
              "\n",
              "    .colab-df-convert {\n",
              "      background-color: #E8F0FE;\n",
              "      border: none;\n",
              "      border-radius: 50%;\n",
              "      cursor: pointer;\n",
              "      display: none;\n",
              "      fill: #1967D2;\n",
              "      height: 32px;\n",
              "      padding: 0 0 0 0;\n",
              "      width: 32px;\n",
              "    }\n",
              "\n",
              "    .colab-df-convert:hover {\n",
              "      background-color: #E2EBFA;\n",
              "      box-shadow: 0px 1px 2px rgba(60, 64, 67, 0.3), 0px 1px 3px 1px rgba(60, 64, 67, 0.15);\n",
              "      fill: #174EA6;\n",
              "    }\n",
              "\n",
              "    [theme=dark] .colab-df-convert {\n",
              "      background-color: #3B4455;\n",
              "      fill: #D2E3FC;\n",
              "    }\n",
              "\n",
              "    [theme=dark] .colab-df-convert:hover {\n",
              "      background-color: #434B5C;\n",
              "      box-shadow: 0px 1px 3px 1px rgba(0, 0, 0, 0.15);\n",
              "      filter: drop-shadow(0px 1px 2px rgba(0, 0, 0, 0.3));\n",
              "      fill: #FFFFFF;\n",
              "    }\n",
              "  </style>\n",
              "\n",
              "      <script>\n",
              "        const buttonEl =\n",
              "          document.querySelector('#df-281069c9-25ad-4d67-a38d-7386f403ec04 button.colab-df-convert');\n",
              "        buttonEl.style.display =\n",
              "          google.colab.kernel.accessAllowed ? 'block' : 'none';\n",
              "\n",
              "        async function convertToInteractive(key) {\n",
              "          const element = document.querySelector('#df-281069c9-25ad-4d67-a38d-7386f403ec04');\n",
              "          const dataTable =\n",
              "            await google.colab.kernel.invokeFunction('convertToInteractive',\n",
              "                                                     [key], {});\n",
              "          if (!dataTable) return;\n",
              "\n",
              "          const docLinkHtml = 'Like what you see? Visit the ' +\n",
              "            '<a target=\"_blank\" href=https://colab.research.google.com/notebooks/data_table.ipynb>data table notebook</a>'\n",
              "            + ' to learn more about interactive tables.';\n",
              "          element.innerHTML = '';\n",
              "          dataTable['output_type'] = 'display_data';\n",
              "          await google.colab.output.renderOutput(dataTable, element);\n",
              "          const docLink = document.createElement('div');\n",
              "          docLink.innerHTML = docLinkHtml;\n",
              "          element.appendChild(docLink);\n",
              "        }\n",
              "      </script>\n",
              "    </div>\n",
              "  </div>\n",
              "  "
            ]
          },
          "metadata": {},
          "execution_count": 276
        }
      ],
      "source": [
        "test_df = pd.read_csv(\"./data_worthcheck/test.csv\")\n",
        "test_df"
      ]
    },
    {
      "cell_type": "code",
      "execution_count": 277,
      "metadata": {
        "colab": {
          "base_uri": "https://localhost:8080/",
          "height": 424
        },
        "id": "ERVkxVpL22Z-",
        "outputId": "b53bb81d-bffd-498d-c7bf-9d76be133cb0"
      },
      "outputs": [
        {
          "output_type": "execute_result",
          "data": {
            "text/plain": [
              "                     slang                             normal\n",
              "0      anakjakartaasikasik           anak jakarta asyik asyik\n",
              "1             pakcikdahtua                  pak cik sudah tua\n",
              "2           pakcikmudalagi                  pak cik muda lagi\n",
              "3              t3tapjokowi                       tetap jokowi\n",
              "4                       3x                          tiga kali\n",
              "...                    ...                                ...\n",
              "15162            mendikbud  menteri pendidikan dan kebudayaan\n",
              "15163               mendag                menteri perdagangan\n",
              "15164              menaker               menteri tenaga kerja\n",
              "15165             memetwit                            mentwit\n",
              "15166             megangin                           memegang\n",
              "\n",
              "[15167 rows x 2 columns]"
            ],
            "text/html": [
              "\n",
              "  <div id=\"df-c6886caf-fd25-4b76-a93c-66868d5d841c\">\n",
              "    <div class=\"colab-df-container\">\n",
              "      <div>\n",
              "<style scoped>\n",
              "    .dataframe tbody tr th:only-of-type {\n",
              "        vertical-align: middle;\n",
              "    }\n",
              "\n",
              "    .dataframe tbody tr th {\n",
              "        vertical-align: top;\n",
              "    }\n",
              "\n",
              "    .dataframe thead th {\n",
              "        text-align: right;\n",
              "    }\n",
              "</style>\n",
              "<table border=\"1\" class=\"dataframe\">\n",
              "  <thead>\n",
              "    <tr style=\"text-align: right;\">\n",
              "      <th></th>\n",
              "      <th>slang</th>\n",
              "      <th>normal</th>\n",
              "    </tr>\n",
              "  </thead>\n",
              "  <tbody>\n",
              "    <tr>\n",
              "      <th>0</th>\n",
              "      <td>anakjakartaasikasik</td>\n",
              "      <td>anak jakarta asyik asyik</td>\n",
              "    </tr>\n",
              "    <tr>\n",
              "      <th>1</th>\n",
              "      <td>pakcikdahtua</td>\n",
              "      <td>pak cik sudah tua</td>\n",
              "    </tr>\n",
              "    <tr>\n",
              "      <th>2</th>\n",
              "      <td>pakcikmudalagi</td>\n",
              "      <td>pak cik muda lagi</td>\n",
              "    </tr>\n",
              "    <tr>\n",
              "      <th>3</th>\n",
              "      <td>t3tapjokowi</td>\n",
              "      <td>tetap jokowi</td>\n",
              "    </tr>\n",
              "    <tr>\n",
              "      <th>4</th>\n",
              "      <td>3x</td>\n",
              "      <td>tiga kali</td>\n",
              "    </tr>\n",
              "    <tr>\n",
              "      <th>...</th>\n",
              "      <td>...</td>\n",
              "      <td>...</td>\n",
              "    </tr>\n",
              "    <tr>\n",
              "      <th>15162</th>\n",
              "      <td>mendikbud</td>\n",
              "      <td>menteri pendidikan dan kebudayaan</td>\n",
              "    </tr>\n",
              "    <tr>\n",
              "      <th>15163</th>\n",
              "      <td>mendag</td>\n",
              "      <td>menteri perdagangan</td>\n",
              "    </tr>\n",
              "    <tr>\n",
              "      <th>15164</th>\n",
              "      <td>menaker</td>\n",
              "      <td>menteri tenaga kerja</td>\n",
              "    </tr>\n",
              "    <tr>\n",
              "      <th>15165</th>\n",
              "      <td>memetwit</td>\n",
              "      <td>mentwit</td>\n",
              "    </tr>\n",
              "    <tr>\n",
              "      <th>15166</th>\n",
              "      <td>megangin</td>\n",
              "      <td>memegang</td>\n",
              "    </tr>\n",
              "  </tbody>\n",
              "</table>\n",
              "<p>15167 rows × 2 columns</p>\n",
              "</div>\n",
              "      <button class=\"colab-df-convert\" onclick=\"convertToInteractive('df-c6886caf-fd25-4b76-a93c-66868d5d841c')\"\n",
              "              title=\"Convert this dataframe to an interactive table.\"\n",
              "              style=\"display:none;\">\n",
              "        \n",
              "  <svg xmlns=\"http://www.w3.org/2000/svg\" height=\"24px\"viewBox=\"0 0 24 24\"\n",
              "       width=\"24px\">\n",
              "    <path d=\"M0 0h24v24H0V0z\" fill=\"none\"/>\n",
              "    <path d=\"M18.56 5.44l.94 2.06.94-2.06 2.06-.94-2.06-.94-.94-2.06-.94 2.06-2.06.94zm-11 1L8.5 8.5l.94-2.06 2.06-.94-2.06-.94L8.5 2.5l-.94 2.06-2.06.94zm10 10l.94 2.06.94-2.06 2.06-.94-2.06-.94-.94-2.06-.94 2.06-2.06.94z\"/><path d=\"M17.41 7.96l-1.37-1.37c-.4-.4-.92-.59-1.43-.59-.52 0-1.04.2-1.43.59L10.3 9.45l-7.72 7.72c-.78.78-.78 2.05 0 2.83L4 21.41c.39.39.9.59 1.41.59.51 0 1.02-.2 1.41-.59l7.78-7.78 2.81-2.81c.8-.78.8-2.07 0-2.86zM5.41 20L4 18.59l7.72-7.72 1.47 1.35L5.41 20z\"/>\n",
              "  </svg>\n",
              "      </button>\n",
              "      \n",
              "  <style>\n",
              "    .colab-df-container {\n",
              "      display:flex;\n",
              "      flex-wrap:wrap;\n",
              "      gap: 12px;\n",
              "    }\n",
              "\n",
              "    .colab-df-convert {\n",
              "      background-color: #E8F0FE;\n",
              "      border: none;\n",
              "      border-radius: 50%;\n",
              "      cursor: pointer;\n",
              "      display: none;\n",
              "      fill: #1967D2;\n",
              "      height: 32px;\n",
              "      padding: 0 0 0 0;\n",
              "      width: 32px;\n",
              "    }\n",
              "\n",
              "    .colab-df-convert:hover {\n",
              "      background-color: #E2EBFA;\n",
              "      box-shadow: 0px 1px 2px rgba(60, 64, 67, 0.3), 0px 1px 3px 1px rgba(60, 64, 67, 0.15);\n",
              "      fill: #174EA6;\n",
              "    }\n",
              "\n",
              "    [theme=dark] .colab-df-convert {\n",
              "      background-color: #3B4455;\n",
              "      fill: #D2E3FC;\n",
              "    }\n",
              "\n",
              "    [theme=dark] .colab-df-convert:hover {\n",
              "      background-color: #434B5C;\n",
              "      box-shadow: 0px 1px 3px 1px rgba(0, 0, 0, 0.15);\n",
              "      filter: drop-shadow(0px 1px 2px rgba(0, 0, 0, 0.3));\n",
              "      fill: #FFFFFF;\n",
              "    }\n",
              "  </style>\n",
              "\n",
              "      <script>\n",
              "        const buttonEl =\n",
              "          document.querySelector('#df-c6886caf-fd25-4b76-a93c-66868d5d841c button.colab-df-convert');\n",
              "        buttonEl.style.display =\n",
              "          google.colab.kernel.accessAllowed ? 'block' : 'none';\n",
              "\n",
              "        async function convertToInteractive(key) {\n",
              "          const element = document.querySelector('#df-c6886caf-fd25-4b76-a93c-66868d5d841c');\n",
              "          const dataTable =\n",
              "            await google.colab.kernel.invokeFunction('convertToInteractive',\n",
              "                                                     [key], {});\n",
              "          if (!dataTable) return;\n",
              "\n",
              "          const docLinkHtml = 'Like what you see? Visit the ' +\n",
              "            '<a target=\"_blank\" href=https://colab.research.google.com/notebooks/data_table.ipynb>data table notebook</a>'\n",
              "            + ' to learn more about interactive tables.';\n",
              "          element.innerHTML = '';\n",
              "          dataTable['output_type'] = 'display_data';\n",
              "          await google.colab.output.renderOutput(dataTable, element);\n",
              "          const docLink = document.createElement('div');\n",
              "          docLink.innerHTML = docLinkHtml;\n",
              "          element.appendChild(docLink);\n",
              "        }\n",
              "      </script>\n",
              "    </div>\n",
              "  </div>\n",
              "  "
            ]
          },
          "metadata": {},
          "execution_count": 277
        }
      ],
      "source": [
        "text_normalization_url = \"https://raw.githubusercontent.com/okkyibrohim/id-multi-label-hate-speech-and-abusive-language-detection/master/new_kamusalay.csv\"\n",
        "text_normalization_df = pd.read_csv(text_normalization_url,names=['slang', 'normal'], encoding='ISO-8859-1')\n",
        "text_normalization_df"
      ]
    },
    {
      "cell_type": "markdown",
      "metadata": {
        "id": "T6VwVRmp3Jns"
      },
      "source": [
        "## Preprocess Data"
      ]
    },
    {
      "cell_type": "code",
      "execution_count": 278,
      "metadata": {
        "id": "y80IXehS3I0M"
      },
      "outputs": [],
      "source": [
        "df.loc[df[\"label\"] == \"no\",'label']= 0\n",
        "df.loc[df[\"label\"] == \"yes\",'label'] = 1\n",
        "test_df.loc[test_df[\"label\"] == \"no\",'label']= 0\n",
        "test_df.loc[test_df[\"label\"] == \"yes\",'label'] = 1"
      ]
    },
    {
      "cell_type": "code",
      "execution_count": 279,
      "metadata": {
        "id": "cBpKQ9fbBllp"
      },
      "outputs": [],
      "source": [
        "def preprocess_x(df, normaliseText = False):\n",
        "  cleanedData = []\n",
        "\n",
        "  factory = StemmerFactory()\n",
        "  bahasa_stemmer = factory.create_stemmer()\n",
        "  factory = StopWordRemoverFactory()\n",
        "  stopwords = factory.get_stop_words()\n",
        "  swords = stopwords\n",
        "  for text in df[\"text_a\"]:\n",
        "      \n",
        "      text = text.lower()\n",
        "\n",
        "      # Cleaning links\n",
        "      text = re.sub(r'https\\s+t\\s+co\\s\\w+', '', text)\n",
        "      \n",
        "      # Cleaning everything except alphabetical characters\n",
        "      text = re.sub(\"[^a-zA-Z]\",\" \",text)\n",
        "      \n",
        "      \n",
        "      # Tokenizing and lemmatizing\n",
        "      text = nltk.word_tokenize(text)\n",
        "\n",
        "      # Normalize text\n",
        "      if normaliseText:\n",
        "        normalized_text = []\n",
        "        for word in text:\n",
        "          if (text_normalization_df['slang'] == word).any():\n",
        "            index =  text_normalization_df.index[text_normalization_df['slang'] == word]\n",
        "            normalized_text.append(text_normalization_df.iloc[index[0]]['normal'])\n",
        "          else:\n",
        "            normalized_text.append(word)\n",
        "      else:\n",
        "        normalized_text = text\n",
        "\n",
        "      # Stem Text\n",
        "      text = [bahasa_stemmer.stem(word) for word in normalized_text]\n",
        "      \n",
        "      # Removing stopwords\n",
        "      text = [word for word in text if word not in swords]\n",
        "      \n",
        "      # Joining\n",
        "      text = \" \".join(text)\n",
        "      \n",
        "      cleanedData.append(text)\n",
        "  return cleanedData"
      ]
    },
    {
      "cell_type": "code",
      "execution_count": 280,
      "metadata": {
        "id": "I3Hd2VXB3VcM"
      },
      "outputs": [],
      "source": [
        "x_train = preprocess_x(df)\n",
        "x_test = preprocess_x(test_df)\n",
        "y_train = np.asarray(df[\"label\"]).astype('int')\n",
        "y_test = np.asarray(test_df[\"label\"]).astype('int')"
      ]
    },
    {
      "cell_type": "markdown",
      "source": [
        "#Deep Learning"
      ],
      "metadata": {
        "id": "fErtbqiG8-Sr"
      }
    },
    {
      "cell_type": "code",
      "source": [
        "# Load pretrained word2vec model (taken from https://github.com/deryrahman/word2vec-bahasa-indonesia)\n",
        "path = './pretrained_word2vec_bahasa/idwiki_word2vec_300.model'\n",
        "id_w2v = gensim.models.word2vec.Word2Vec.load(path)"
      ],
      "metadata": {
        "id": "IadlP-9uRwH1"
      },
      "execution_count": 281,
      "outputs": []
    },
    {
      "cell_type": "code",
      "source": [
        "# Declare global variables\n",
        "TOKEN_LENGTH = 300\n",
        "learning_rate = 0.01\n",
        "num_epochs = 10\n",
        "CUDA: torch.device = torch.device(\"cuda:0\" if torch.cuda.is_available() else \"cpu\")"
      ],
      "metadata": {
        "id": "ghn8Goae-pWS"
      },
      "execution_count": 282,
      "outputs": []
    },
    {
      "cell_type": "code",
      "source": [
        "tokenizer = get_tokenizer(\"spacy\")\n",
        "train_tokens = [tokenizer(x) for x in x_train]\n",
        "test_tokens = [tokenizer(x) for x in x_test]"
      ],
      "metadata": {
        "colab": {
          "base_uri": "https://localhost:8080/"
        },
        "id": "qbodIEcb89SM",
        "outputId": "186c7f36-f246-40b1-a246-fc679ea1082a"
      },
      "execution_count": 283,
      "outputs": [
        {
          "output_type": "stream",
          "name": "stderr",
          "text": [
            "/usr/local/lib/python3.7/dist-packages/torchtext/data/utils.py:106: UserWarning: Spacy model \"en\" could not be loaded, trying \"en_core_web_sm\" instead\n",
            "  f'Spacy model \"{language}\" could not be loaded, trying \"{OLD_MODEL_SHORTCUTS[language]}\" instead'\n"
          ]
        }
      ]
    },
    {
      "cell_type": "code",
      "source": [
        "def vectorize_tokens(tokens):\n",
        "  vectorized_tokens = []\n",
        "  for tokens in tokens:\n",
        "    vectorized_token = []\n",
        "    for token in tokens:\n",
        "      try:\n",
        "        vectorized_token.append(id_w2v.wv.get_vector(token))\n",
        "      except:\n",
        "        vectorized_token.append(np.zeros(300))\n",
        "    vectorized_tokens.append(torch.tensor(vectorized_token))\n",
        "  return vectorized_tokens"
      ],
      "metadata": {
        "id": "pm5480er9Oi5"
      },
      "execution_count": 284,
      "outputs": []
    },
    {
      "cell_type": "code",
      "source": [
        "vectorized_train_tokens = vectorize_tokens(train_tokens)\n",
        "vectorized_test_tokens = vectorize_tokens(test_tokens)"
      ],
      "metadata": {
        "id": "jXURoP9e-9O2"
      },
      "execution_count": 285,
      "outputs": []
    },
    {
      "cell_type": "code",
      "source": [
        "class WorthcheckDataset(torch.utils.data.Dataset):\n",
        "  def __init__(self, vectorized_tokens, labels, max_token_size) -> None:\n",
        "    super().__init__()\n",
        "    self.vectorized_tokens = vectorized_tokens\n",
        "    self.labels = labels\n",
        "    self.max_token_size = max_token_size\n",
        "    \n",
        "  def __len__(self) -> int:\n",
        "    return len(self.vectorized_tokens)\n",
        "    \n",
        "  def __getitem__(self, idx) -> tuple:\n",
        "    if self.vectorized_tokens[idx].size(0) <= self.max_token_size:\n",
        "      return (torch.cat((self.vectorized_tokens[idx], torch.zeros(self.max_token_size - self.vectorized_tokens[idx].size(0), 300)), dim=0), self.labels[idx])\n",
        "    else:\n",
        "      return (self.vectorized_tokens[idx][:self.max_token_size, :], self.labels[idx])"
      ],
      "metadata": {
        "id": "8mS5FESnaiuh"
      },
      "execution_count": 286,
      "outputs": []
    },
    {
      "cell_type": "code",
      "source": [
        "train_dataset = WorthcheckDataset(vectorized_train_tokens, y_train, TOKEN_LENGTH)\n",
        "test_dataset = WorthcheckDataset(vectorized_test_tokens, y_test, TOKEN_LENGTH)"
      ],
      "metadata": {
        "id": "3uATnBr0anPz"
      },
      "execution_count": 287,
      "outputs": []
    },
    {
      "cell_type": "code",
      "source": [
        "train_dataloader = torch.utils.data.DataLoader(train_dataset, batch_size = 256, shuffle = True, pin_memory = True)\n",
        "test_dataloader = torch.utils.data.DataLoader(test_dataset, batch_size = 256, pin_memory = True)"
      ],
      "metadata": {
        "id": "Vuwh3Wbodf0U"
      },
      "execution_count": 288,
      "outputs": []
    },
    {
      "cell_type": "code",
      "source": [
        "class DeepLearningModel(torch.nn.Module):\n",
        "  def __init__(self, input_size, hidden_size, num_layers):\n",
        "    super(DeepLearningModel, self).__init__()\n",
        "    self.num_layers = num_layers\n",
        "    self.hidden_size = hidden_size\n",
        "    self.clf = torch.nn.Sequential(\n",
        "            torch.nn.Linear(input_size*num_layers, hidden_size),\n",
        "            torch.nn.ReLU(),\n",
        "            torch.nn.Linear(hidden_size, hidden_size*2),\n",
        "            torch.nn.ReLU(),\n",
        "            torch.nn.Linear(hidden_size*2, 1),\n",
        "            torch.nn.Sigmoid()\n",
        "        )\n",
        "\n",
        "  def forward(self, x):\n",
        "      return self.clf(x.view(x.size(0), -1))"
      ],
      "metadata": {
        "id": "vNkOOdNaHm8G"
      },
      "execution_count": 289,
      "outputs": []
    },
    {
      "cell_type": "code",
      "source": [
        "dl_model = DeepLearningModel(300, 500, TOKEN_LENGTH)\n",
        "criterion = torch.nn.BCELoss()\n",
        "optimizer = torch.optim.Adam(dl_model.parameters(), lr=learning_rate)  "
      ],
      "metadata": {
        "id": "TMre5tKZIBkr"
      },
      "execution_count": 290,
      "outputs": []
    },
    {
      "cell_type": "code",
      "source": [
        "def clear_cache():\n",
        "    gc.collect()\n",
        "    torch.cuda.empty_cache()"
      ],
      "metadata": {
        "id": "k4zRLq5HLtGx"
      },
      "execution_count": 291,
      "outputs": []
    },
    {
      "cell_type": "code",
      "source": [
        "def fit(dataloader: torch.utils.data.DataLoader, model: torch.nn.Module, criterion: torch.nn.Module, optimizer: torch.optim.Optimizer) -> tuple:\n",
        "  \n",
        "  # set model to training mode\n",
        "  model.to(CUDA).train()\n",
        "\n",
        "  # log\n",
        "  epoch_loss: float = 0\n",
        "  epoch_correct: int = 0\n",
        "  epoch_count: int = 0\n",
        "\n",
        "  # load a batch of data\n",
        "  for X, y in dataloader:\n",
        "\n",
        "    # move to GPU\n",
        "    X: torch.Tensor = X.to(torch.float).to(CUDA)\n",
        "    y: torch.Tensor = y.view(-1, 1).to(torch.float).to(CUDA)\n",
        "\n",
        "    # forward pass\n",
        "    y_tilde: torch.Tensor = model(X)\n",
        "    loss: float = criterion(y_tilde, y)\n",
        "\n",
        "    # backward pass\n",
        "    optimizer.zero_grad()\n",
        "    loss.backward()\n",
        "    optimizer.step()\n",
        "\n",
        "    # log\n",
        "    epoch_loss += loss.item()\n",
        "    epoch_correct += (y_tilde.round() == y).sum().item()\n",
        "    epoch_count += y.size(dim=0)\n",
        "    clear_cache()\n",
        "    \n",
        "  # return log\n",
        "  return (epoch_loss, epoch_correct, epoch_count)"
      ],
      "metadata": {
        "id": "HHlUZ__vh-m-"
      },
      "execution_count": 292,
      "outputs": []
    },
    {
      "cell_type": "code",
      "source": [
        "def evaluate(dataloader: torch.utils.data.DataLoader, model: torch.nn.Module, criterion: torch.nn.Module) -> tuple:\n",
        "  \n",
        "  # set model to test mode\n",
        "  model.to(CUDA).eval()\n",
        "\n",
        "  # log\n",
        "  epoch_loss: float = 0\n",
        "  epoch_correct: int = 0\n",
        "  epoch_count: int = 0\n",
        "\n",
        "  # load a batch of data\n",
        "  for X, y in dataloader:\n",
        "\n",
        "    # move to GPU\n",
        "    X: torch.Tensor = X.to(torch.float).to(CUDA)\n",
        "    y: torch.Tensor = y.view(-1, 1).to(torch.float).to(CUDA)\n",
        "\n",
        "    # forward pass\n",
        "    with torch.no_grad():\n",
        "      y_tilde: torch.Tensor = model(X)\n",
        "      loss: float = criterion(y_tilde, y)\n",
        "\n",
        "    # log\n",
        "    epoch_loss += loss.item()\n",
        "    epoch_correct += (y_tilde.round() == y).sum().item()\n",
        "    epoch_count += y.size(dim=0)\n",
        "    clear_cache()\n",
        "    \n",
        "  # return log\n",
        "  return (epoch_loss, epoch_correct, epoch_count)"
      ],
      "metadata": {
        "id": "7YJ1_ANe-LYH"
      },
      "execution_count": 293,
      "outputs": []
    },
    {
      "cell_type": "code",
      "source": [
        "# Train the model\n",
        "n_total_steps = len(train_dataloader)\n",
        "for epoch in range(num_epochs):\n",
        "  epoch_loss, epoch_correct, epoch_count = fit(train_dataloader, dl_model, criterion, optimizer)\n",
        "  print (f'Epoch [{epoch+1}/{num_epochs}], loss: {epoch_loss}, accuracy: {epoch_correct / epoch_count} ({epoch_correct}/{epoch_count})')\n",
        "  torch.save(dl_model.state_dict(), f\"./models/model_state_linear{epoch+1}.pt\")"
      ],
      "metadata": {
        "colab": {
          "base_uri": "https://localhost:8080/"
        },
        "id": "g4dZdHoygw1C",
        "outputId": "9d605d8b-7d4c-4acf-82eb-213b20606393"
      },
      "execution_count": 294,
      "outputs": [
        {
          "output_type": "stream",
          "name": "stdout",
          "text": [
            "Epoch [1/10], loss: 55.49845510721207, accuracy: 0.8004722003610943 (17291/21601)\n",
            "Epoch [2/10], loss: 31.549093410372734, accuracy: 0.887412619786121 (19169/21601)\n",
            "Epoch [3/10], loss: 22.444929763674736, accuracy: 0.9251886486736726 (19985/21601)\n",
            "Epoch [4/10], loss: 23.54626925289631, accuracy: 0.9494930790241193 (20510/21601)\n",
            "Epoch [5/10], loss: 19.401399575173855, accuracy: 0.9632887366325633 (20808/21601)\n",
            "Epoch [6/10], loss: 20.25689112767577, accuracy: 0.9706958011203185 (20968/21601)\n",
            "Epoch [7/10], loss: 20.082257814705372, accuracy: 0.9710661543447062 (20976/21601)\n",
            "Epoch [8/10], loss: 20.67242281138897, accuracy: 0.9705569186611731 (20965/21601)\n",
            "Epoch [9/10], loss: 30.124452006071806, accuracy: 0.9658812092032776 (20864/21601)\n",
            "Epoch [10/10], loss: 27.569613875821233, accuracy: 0.969168094069719 (20935/21601)\n"
          ]
        }
      ]
    },
    {
      "cell_type": "code",
      "source": [
        "for i_epoch in range(num_epochs):\n",
        "  dl_model.load_state_dict(torch.load(f\"./models/model_state_linear{i_epoch+1}.pt\", map_location=CUDA))\n",
        "  epoch_loss, epoch_correct, epoch_count = evaluate(test_dataloader, dl_model, criterion)\n",
        "  print(f\"Epoch {i_epoch + 1} model, test set loss: {epoch_loss}, accuracy: {epoch_correct / epoch_count} ({epoch_correct}/{epoch_count})\")"
      ],
      "metadata": {
        "colab": {
          "base_uri": "https://localhost:8080/"
        },
        "id": "YyxR722T2NcT",
        "outputId": "b9e9c08d-b83b-44c6-c9a5-da749c5906d3"
      },
      "execution_count": 295,
      "outputs": [
        {
          "output_type": "stream",
          "name": "stdout",
          "text": [
            "Epoch 1 model, test set loss: 5.035563409328461, accuracy: 0.8242857142857143 (2308/2800)\n",
            "Epoch 2 model, test set loss: 5.888532340526581, accuracy: 0.8175 (2289/2800)\n",
            "Epoch 3 model, test set loss: 8.63590782880783, accuracy: 0.8128571428571428 (2276/2800)\n",
            "Epoch 4 model, test set loss: 8.66850996017456, accuracy: 0.8160714285714286 (2285/2800)\n",
            "Epoch 5 model, test set loss: 10.536758244037628, accuracy: 0.8042857142857143 (2252/2800)\n",
            "Epoch 6 model, test set loss: 11.139420926570892, accuracy: 0.8042857142857143 (2252/2800)\n",
            "Epoch 7 model, test set loss: 11.89089810848236, accuracy: 0.8014285714285714 (2244/2800)\n",
            "Epoch 8 model, test set loss: 14.786003947257996, accuracy: 0.8135714285714286 (2278/2800)\n",
            "Epoch 9 model, test set loss: 12.802927196025848, accuracy: 0.7978571428571428 (2234/2800)\n",
            "Epoch 10 model, test set loss: 18.265276312828064, accuracy: 0.8075 (2261/2800)\n"
          ]
        }
      ]
    }
  ],
  "metadata": {
    "colab": {
      "provenance": [],
      "collapsed_sections": []
    },
    "kernelspec": {
      "display_name": "Python 3",
      "name": "python3"
    },
    "language_info": {
      "name": "python"
    },
    "accelerator": "GPU"
  },
  "nbformat": 4,
  "nbformat_minor": 0
}